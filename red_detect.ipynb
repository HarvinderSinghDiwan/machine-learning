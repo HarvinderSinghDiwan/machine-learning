{
 "cells": [
  {
   "cell_type": "code",
   "execution_count": 1,
   "metadata": {},
   "outputs": [],
   "source": [
    "import cv2"
   ]
  },
  {
   "cell_type": "code",
   "execution_count": 2,
   "metadata": {},
   "outputs": [],
   "source": [
    "#starting camera\n",
    "cap=cv2.VideoCapture(0)  #here we use zero for using system's camera\n",
    "  #for using oyher camera(external)we use another driver number \n"
   ]
  },
  {
   "cell_type": "code",
   "execution_count": 4,
   "metadata": {},
   "outputs": [],
   "source": [
    "#status of cam\n",
    "while cap.isOpened():\n",
    "    status,frame=cap.read()\n",
    "    redi=cv2.inRange(frame,(0,0,0),(20,20,255))  #here we detecting red color from BGR as(20,20,255)\n",
    "    cv2.imshow('LIVE',redi)\n",
    "    \n",
    "    if cv2.waitKey(10) & 0xff ==ord('q'):    #here '0xff ==ord('q')' is used to take the keyboard-input for eliminating loop\n",
    "        break\n",
    "    \n",
    "#cv2.destroyWindow('live')\n",
    "cv2.destroyAllWindows()  #this is will destroy all Windows\n",
    "    "
   ]
  },
  {
   "cell_type": "code",
   "execution_count": 5,
   "metadata": {},
   "outputs": [],
   "source": [
    "cap.release()"
   ]
  },
  {
   "cell_type": "code",
   "execution_count": null,
   "metadata": {},
   "outputs": [],
   "source": []
  }
 ],
 "metadata": {
  "kernelspec": {
   "display_name": "Python 3",
   "language": "python",
   "name": "python3"
  },
  "language_info": {
   "codemirror_mode": {
    "name": "ipython",
    "version": 3
   },
   "file_extension": ".py",
   "mimetype": "text/x-python",
   "name": "python",
   "nbconvert_exporter": "python",
   "pygments_lexer": "ipython3",
   "version": "3.7.3"
  }
 },
 "nbformat": 4,
 "nbformat_minor": 2
}
