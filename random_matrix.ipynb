{
 "cells": [
  {
   "cell_type": "code",
   "execution_count": 1,
   "metadata": {},
   "outputs": [
    {
     "name": "stdout",
     "output_type": "stream",
     "text": [
      "Enter the First element (100-124):102\n",
      "[[102 107]\n",
      " [112 117]\n",
      " [122 127]\n",
      " [132 137]\n",
      " [142 147]\n",
      " [152 157]\n",
      " [162 167]\n",
      " [172 177]]\n"
     ]
    }
   ],
   "source": [
    "import numpy as np\n",
    "\n",
    "low=int(input(\"Enter the First element (100-124):\"))\n",
    "arr=np.arange(low,low+80,5).reshape(8,2)\n",
    "print(arr)"
   ]
  },
  {
   "cell_type": "code",
   "execution_count": 8,
   "metadata": {},
   "outputs": [
    {
     "name": "stdout",
     "output_type": "stream",
     "text": [
      "[[0.96801869 0.52649688]\n",
      " [0.6220483  0.14648747]\n",
      " [0.36088558 0.26311726]]\n",
      "[[0.85109176 0.74611236]\n",
      " [0.56789674 0.61700695]\n",
      " [0.88554146 0.94805891]\n",
      " [0.33227218 0.36035275]\n",
      " [0.17145406 0.88197562]]\n"
     ]
    }
   ],
   "source": [
    "f=open(\"file.txt\",\"w\")\n",
    "a=np.random.random((3,2))\n",
    "b=np.random.random((5,2))\n",
    "\n",
    "f.write(\"matrix a:\\n\")\n",
    "f.write(str(a))\n",
    "f.write(\"\\n\")\n",
    "f.write(\"matrix b:\\n\")\n",
    "f.write(str(b))\n",
    "\n",
    "print(a)\n",
    "print(b)"
   ]
  },
  {
   "cell_type": "code",
   "execution_count": null,
   "metadata": {},
   "outputs": [],
   "source": []
  }
 ],
 "metadata": {
  "kernelspec": {
   "display_name": "Python 3",
   "language": "python",
   "name": "python3"
  },
  "language_info": {
   "codemirror_mode": {
    "name": "ipython",
    "version": 3
   },
   "file_extension": ".py",
   "mimetype": "text/x-python",
   "name": "python",
   "nbconvert_exporter": "python",
   "pygments_lexer": "ipython3",
   "version": "3.7.3"
  }
 },
 "nbformat": 4,
 "nbformat_minor": 2
}
