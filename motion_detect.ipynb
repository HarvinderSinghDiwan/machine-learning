{
 "cells": [
  {
   "cell_type": "code",
   "execution_count": 4,
   "metadata": {},
   "outputs": [],
   "source": [
    "import cv2\n"
   ]
  },
  {
   "cell_type": "code",
   "execution_count": 5,
   "metadata": {},
   "outputs": [],
   "source": [
    "#starting camera\n",
    "cap=cv2.VideoCapture(0)"
   ]
  },
  {
   "cell_type": "code",
   "execution_count": 14,
   "metadata": {},
   "outputs": [],
   "source": [
    "tp1=cap.read()[1]#take 1\n",
    "tp2=cap.read()[1]#take 2\n",
    "tp3=cap.read()[1]#take 3\n",
    "\n",
    "#to make more perfect  we convert pictures to gray one for ignoring color-intensity-effect\n",
    "gray1=cv2.cvtColor(tp1,cv2.COLOR_BGR2GRAY)\n",
    "gray2=cv2.cvtColor(tp2,cv2.COLOR_BGR2GRAY)\n",
    "gray3=cv2.cvtColor(tp3,cv2.COLOR_BGR2GRAY)"
   ]
  },
  {
   "cell_type": "code",
   "execution_count": 23,
   "metadata": {},
   "outputs": [],
   "source": [
    "#now crerating image difference\n",
    "def img_diff(x,y,z):\n",
    "    #diff b/w x,y--gray1,gray2   ---d1\n",
    "         d1=cv2.absdiff(x,y)\n",
    "    #diff b/w y,z --gray2,gray3 ----d2\n",
    "         d2=cv2.absdiff(y,z)\n",
    "    # abs diff d1-d2\n",
    "         finalimg=cv2.bitwise_and(d1,d2)   #its comparing both diffrencees(d1-d2) by comparing there BGR in binary-numbers\n",
    "                                          #here we using 'and' for satisfying both diffrence codn\n",
    "         return finalimg   "
   ]
  },
  {
   "cell_type": "code",
   "execution_count": 24,
   "metadata": {},
   "outputs": [],
   "source": [
    "#now applying function\n",
    "while cap.isOpened():\n",
    "    status,frame=cap.read() #continue image taker\n",
    "    motionimg=img_diff(gray1,gray2,gray3)\n",
    "    #replacing image-frame\n",
    "    gray1=gray2\n",
    "    gray2=gray3\n",
    "    gray3=cv2.cvtColor(frame,cv2.COLOR_BGR2GRAY)  #passing live image to gray3\n",
    "    cv2.imshow('live',frame)\n",
    "    cv2.imshow('MOTION_DETECTOR', motionimg)   #motion detection\n",
    "    \n",
    "    if cv2.waitKey(10) & 0xff ==ord('q'):    #here '0xff ==ord('q')' is used to take the keyboard-input for eliminating loop\n",
    "        break\n",
    "    \n",
    "#cv2.destroyWindow('live')\n",
    "cv2.destroyAllWindows()  #this is will destroy all Windows\n",
    "    "
   ]
  },
  {
   "cell_type": "code",
   "execution_count": 25,
   "metadata": {},
   "outputs": [],
   "source": [
    "#to close\n",
    "cap.release()"
   ]
  },
  {
   "cell_type": "code",
   "execution_count": null,
   "metadata": {},
   "outputs": [],
   "source": []
  }
 ],
 "metadata": {
  "kernelspec": {
   "display_name": "Python 3",
   "language": "python",
   "name": "python3"
  },
  "language_info": {
   "codemirror_mode": {
    "name": "ipython",
    "version": 3
   },
   "file_extension": ".py",
   "mimetype": "text/x-python",
   "name": "python",
   "nbconvert_exporter": "python",
   "pygments_lexer": "ipython3",
   "version": "3.7.3"
  }
 },
 "nbformat": 4,
 "nbformat_minor": 2
}
