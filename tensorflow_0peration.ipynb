{
  "nbformat": 4,
  "nbformat_minor": 0,
  "metadata": {
    "colab": {
      "name": "tensorflow-0peration.ipynb",
      "version": "0.3.2",
      "provenance": [],
      "collapsed_sections": [],
      "include_colab_link": true
    },
    "kernelspec": {
      "name": "python3",
      "display_name": "Python 3"
    }
  },
  "cells": [
    {
      "cell_type": "markdown",
      "metadata": {
        "id": "view-in-github",
        "colab_type": "text"
      },
      "source": [
        "<a href=\"https://colab.research.google.com/github/vvicky30/machine-learning/blob/supervised-ml/tensorflow_0peration.ipynb\" target=\"_parent\"><img src=\"https://colab.research.google.com/assets/colab-badge.svg\" alt=\"Open In Colab\"/></a>"
      ]
    },
    {
      "cell_type": "code",
      "metadata": {
        "id": "Ua319rgELzsT",
        "colab_type": "code",
        "colab": {}
      },
      "source": [
        "import tensorflow as tf   #impoerting tensotflow"
      ],
      "execution_count": 0,
      "outputs": []
    },
    {
      "cell_type": "code",
      "metadata": {
        "id": "0A0q47j8L4EK",
        "colab_type": "code",
        "outputId": "b46fc75a-7116-4a2f-9a63-8b3d332e475f",
        "colab": {
          "base_uri": "https://localhost:8080/",
          "height": 33
        }
      },
      "source": [
        "# to assign a fixed value in tenserflow\n",
        "x=tf.constant(30)  #  single value constant\n",
        "print(x)"
      ],
      "execution_count": 0,
      "outputs": [
        {
          "output_type": "stream",
          "text": [
            "Tensor(\"Const_4:0\", shape=(), dtype=int32)\n"
          ],
          "name": "stdout"
        }
      ]
    },
    {
      "cell_type": "code",
      "metadata": {
        "id": "nS2xh6w4MB8i",
        "colab_type": "code",
        "colab": {}
      },
      "source": [
        "x1=tf.constant([3,5,66,88])  # multi value constant"
      ],
      "execution_count": 0,
      "outputs": []
    },
    {
      "cell_type": "code",
      "metadata": {
        "id": "6iM4TU03MKdf",
        "colab_type": "code",
        "outputId": "09b5f5ef-dfe2-4413-ca02-006407a9e7fb",
        "colab": {
          "base_uri": "https://localhost:8080/",
          "height": 33
        }
      },
      "source": [
        "# type of x\n",
        "type(x)"
      ],
      "execution_count": 0,
      "outputs": [
        {
          "output_type": "execute_result",
          "data": {
            "text/plain": [
              "tensorflow.python.framework.ops.Tensor"
            ]
          },
          "metadata": {
            "tags": []
          },
          "execution_count": 21
        }
      ]
    },
    {
      "cell_type": "code",
      "metadata": {
        "id": "wXYthDdnMQuq",
        "colab_type": "code",
        "colab": {}
      },
      "source": [
        "# y\n",
        "y=tf.constant(20)"
      ],
      "execution_count": 0,
      "outputs": []
    },
    {
      "cell_type": "code",
      "metadata": {
        "id": "pEAh_Y-uNdMI",
        "colab_type": "code",
        "outputId": "69cc7014-2883-4b4e-ce29-2741211a983d",
        "colab": {
          "base_uri": "https://localhost:8080/",
          "height": 33
        }
      },
      "source": [
        "# equation \n",
        "z= x+y # new tensor --- z equation compile and store and wait for resources\n",
        "#CPU, CPU, CPU\n",
        "z"
      ],
      "execution_count": 0,
      "outputs": [
        {
          "output_type": "execute_result",
          "data": {
            "text/plain": [
              "<tf.Tensor 'add_5:0' shape=() dtype=int32>"
            ]
          },
          "metadata": {
            "tags": []
          },
          "execution_count": 28
        }
      ]
    },
    {
      "cell_type": "code",
      "metadata": {
        "id": "sDxRs26sOClU",
        "colab_type": "code",
        "outputId": "1b54f53a-4ab7-4506-9bb0-d2eda5f4bef6",
        "colab": {
          "base_uri": "https://localhost:8080/",
          "height": 33
        }
      },
      "source": [
        "# we have another method to add the same\n",
        "z1=tf.add(x,y)\n",
        "z1"
      ],
      "execution_count": 0,
      "outputs": [
        {
          "output_type": "execute_result",
          "data": {
            "text/plain": [
              "<tf.Tensor 'Add_6:0' shape=() dtype=int32>"
            ]
          },
          "metadata": {
            "tags": []
          },
          "execution_count": 29
        }
      ]
    },
    {
      "cell_type": "code",
      "metadata": {
        "id": "RGMvdwOoODkT",
        "colab_type": "code",
        "colab": {}
      },
      "source": [
        "# now time for assigning resources to our equation\n",
        "sess = tf.Session() # connect CPU, GPU TPU"
      ],
      "execution_count": 0,
      "outputs": []
    },
    {
      "cell_type": "code",
      "metadata": {
        "id": "ClsODuf0OXmY",
        "colab_type": "code",
        "outputId": "e48573b0-d52d-4c52-9984-996fdaaa36d9",
        "colab": {
          "base_uri": "https://localhost:8080/",
          "height": 33
        }
      },
      "source": [
        "output=sess.run(z)   #for showing output of Z\n",
        "output"
      ],
      "execution_count": 0,
      "outputs": [
        {
          "output_type": "execute_result",
          "data": {
            "text/plain": [
              "50"
            ]
          },
          "metadata": {
            "tags": []
          },
          "execution_count": 33
        }
      ]
    },
    {
      "cell_type": "code",
      "metadata": {
        "id": "agMsk5BtOfLF",
        "colab_type": "code",
        "outputId": "4f6114ec-b2d5-4ef4-ec5c-fcbdd148b674",
        "colab": {
          "base_uri": "https://localhost:8080/",
          "height": 33
        }
      },
      "source": [
        "output1=sess.run(z1)   #for showing output of z1\n",
        "output1"
      ],
      "execution_count": 0,
      "outputs": [
        {
          "output_type": "execute_result",
          "data": {
            "text/plain": [
              "50"
            ]
          },
          "metadata": {
            "tags": []
          },
          "execution_count": 36
        }
      ]
    },
    {
      "cell_type": "code",
      "metadata": {
        "id": "OIuJvYzvOtbM",
        "colab_type": "code",
        "colab": {}
      },
      "source": [
        "# closing Session\n",
        "sess.close()"
      ],
      "execution_count": 0,
      "outputs": []
    },
    {
      "cell_type": "code",
      "metadata": {
        "id": "m1-y1JTpPGIG",
        "colab_type": "code",
        "colab": {}
      },
      "source": [
        "#after closing session output of any tensorflow-constant doesn't appears\n",
        "output1=sess.run(z1)   #for showing output of z1\n",
        "output1  \n",
        "#RuntimeError: Attempted to use a closed Session."
      ],
      "execution_count": 0,
      "outputs": []
    },
    {
      "cell_type": "code",
      "metadata": {
        "id": "W7nMV3f5Pf9d",
        "colab_type": "code",
        "colab": {}
      },
      "source": [
        "# We can perform same task in another way where we don't have to close session\n",
        "with tf.Session() as sess:\n",
        "    output2=sess.run(z)\n",
        "    tf.summary.FileWriter('graph',sess.graph)  #for showing background graph of tensorflow\n",
        "                 #so here the session's graph is saved by the 'graph'named file and we can open that using the tensorboard"
      ],
      "execution_count": 0,
      "outputs": []
    },
    {
      "cell_type": "code",
      "metadata": {
        "id": "Mzge2YT_P_Mq",
        "colab_type": "code",
        "colab": {
          "base_uri": "https://localhost:8080/",
          "height": 33
        },
        "outputId": "df5b2a1d-9a28-4cd9-8db1-cb79d46b79d9"
      },
      "source": [
        "output2"
      ],
      "execution_count": 43,
      "outputs": [
        {
          "output_type": "execute_result",
          "data": {
            "text/plain": [
              "50"
            ]
          },
          "metadata": {
            "tags": []
          },
          "execution_count": 43
        }
      ]
    },
    {
      "cell_type": "markdown",
      "metadata": {
        "id": "aXGCLjRhS0En",
        "colab_type": "text"
      },
      "source": [
        "#placeholder"
      ]
    },
    {
      "cell_type": "code",
      "metadata": {
        "id": "yykqygz9TAwF",
        "colab_type": "code",
        "colab": {}
      },
      "source": [
        "# first placeholder\n",
        "p1=tf.placeholder(tf.int32)"
      ],
      "execution_count": 0,
      "outputs": []
    },
    {
      "cell_type": "code",
      "metadata": {
        "id": "eDn1RUamTE55",
        "colab_type": "code",
        "colab": {
          "base_uri": "https://localhost:8080/",
          "height": 33
        },
        "outputId": "0a2325b3-4ec5-4570-94ba-d15fb9d0c3a8"
      },
      "source": [
        "p1\n"
      ],
      "execution_count": 47,
      "outputs": [
        {
          "output_type": "execute_result",
          "data": {
            "text/plain": [
              "<tf.Tensor 'Placeholder:0' shape=<unknown> dtype=int32>"
            ]
          },
          "metadata": {
            "tags": []
          },
          "execution_count": 47
        }
      ]
    },
    {
      "cell_type": "code",
      "metadata": {
        "id": "MeiODW3RTGM6",
        "colab_type": "code",
        "colab": {}
      },
      "source": [
        "# second placeholder\n",
        "p2=tf.placeholder(tf.int32)"
      ],
      "execution_count": 0,
      "outputs": []
    },
    {
      "cell_type": "code",
      "metadata": {
        "id": "uYpSKtilTLzZ",
        "colab_type": "code",
        "colab": {
          "base_uri": "https://localhost:8080/",
          "height": 33
        },
        "outputId": "d2b98c4c-d1fa-4bdf-cadb-d681676b4acf"
      },
      "source": [
        "p2"
      ],
      "execution_count": 51,
      "outputs": [
        {
          "output_type": "execute_result",
          "data": {
            "text/plain": [
              "<tf.Tensor 'Placeholder_1:0' shape=<unknown> dtype=int32>"
            ]
          },
          "metadata": {
            "tags": []
          },
          "execution_count": 51
        }
      ]
    },
    {
      "cell_type": "code",
      "metadata": {
        "id": "LbCME4x1TMdK",
        "colab_type": "code",
        "colab": {}
      },
      "source": [
        "# adding values\n",
        "sum=tf.add(p1,p2)"
      ],
      "execution_count": 0,
      "outputs": []
    },
    {
      "cell_type": "code",
      "metadata": {
        "id": "oW2ipjPwTb9N",
        "colab_type": "code",
        "colab": {}
      },
      "source": [
        "# general\n",
        "sum1=p1+p2"
      ],
      "execution_count": 0,
      "outputs": []
    },
    {
      "cell_type": "code",
      "metadata": {
        "id": "egdCqHMbTf3_",
        "colab_type": "code",
        "colab": {}
      },
      "source": [
        "# time for creating Session\n",
        "with tf.Session() as sess:\n",
        "    output2=sess.run(sum1,{p1:[2,4,6],p2:[7,8,9]})\n",
        "    "
      ],
      "execution_count": 0,
      "outputs": []
    },
    {
      "cell_type": "code",
      "metadata": {
        "id": "fppv6qHKTm29",
        "colab_type": "code",
        "colab": {
          "base_uri": "https://localhost:8080/",
          "height": 33
        },
        "outputId": "d447427d-2d9e-4e38-8a23-5a240d83974b"
      },
      "source": [
        "output2"
      ],
      "execution_count": 59,
      "outputs": [
        {
          "output_type": "execute_result",
          "data": {
            "text/plain": [
              "array([ 9, 12, 15], dtype=int32)"
            ]
          },
          "metadata": {
            "tags": []
          },
          "execution_count": 59
        }
      ]
    },
    {
      "cell_type": "code",
      "metadata": {
        "id": "Sufsnm4BTo9t",
        "colab_type": "code",
        "colab": {}
      },
      "source": [
        ""
      ],
      "execution_count": 0,
      "outputs": []
    }
  ]
}