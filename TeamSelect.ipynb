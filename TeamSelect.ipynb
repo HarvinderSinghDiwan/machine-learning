{
  "nbformat": 4,
  "nbformat_minor": 0,
  "metadata": {
    "colab": {
      "name": "Untitled",
      "provenance": [],
      "mount_file_id": "1dEAb7oaaiyNEBShkLcEbYkustvD_-jv8",
      "authorship_tag": "ABX9TyNykyEr7oSJfjQ0ktF2BXc4",
      "include_colab_link": true
    },
    "kernelspec": {
      "name": "python3",
      "display_name": "Python 3"
    },
    "accelerator": "TPU"
  },
  "cells": [
    {
      "cell_type": "markdown",
      "metadata": {
        "id": "view-in-github",
        "colab_type": "text"
      },
      "source": [
        "<a href=\"https://colab.research.google.com/github/HarvinderSinghDiwan/machine-learning/blob/master/TeamSelect.ipynb\" target=\"_parent\"><img src=\"https://colab.research.google.com/assets/colab-badge.svg\" alt=\"Open In Colab\"/></a>"
      ]
    },
    {
      "cell_type": "code",
      "metadata": {
        "id": "LcLz4Gnw3dY9",
        "colab_type": "code",
        "colab": {}
      },
      "source": [
        "import numpy as np\n",
        "import pandas as pd"
      ],
      "execution_count": 0,
      "outputs": []
    },
    {
      "cell_type": "code",
      "metadata": {
        "id": "ibxEOKLJ8Nwi",
        "colab_type": "code",
        "outputId": "d7c3104d-58fa-4e64-e2d2-0d0d716a20a0",
        "colab": {
          "base_uri": "https://localhost:8080/",
          "height": 346
        }
      },
      "source": [
        "data=pd.read_csv(\"/content/covid project - Sheet1.csv\")\n",
        "rdata=pd.DataFrame(data)\n",
        "rdata.head()"
      ],
      "execution_count": 0,
      "outputs": [
        {
          "output_type": "stream",
          "text": [
            "ERROR! Session/line number was not unique in"
          ],
          "name": "stdout"
        },
        {
          "output_type": "execute_result",
          "data": {
            "text/html": [
              "<div>\n",
              "<style scoped>\n",
              "    .dataframe tbody tr th:only-of-type {\n",
              "        vertical-align: middle;\n",
              "    }\n",
              "\n",
              "    .dataframe tbody tr th {\n",
              "        vertical-align: top;\n",
              "    }\n",
              "\n",
              "    .dataframe thead th {\n",
              "        text-align: right;\n",
              "    }\n",
              "</style>\n",
              "<table border=\"1\" class=\"dataframe\">\n",
              "  <thead>\n",
              "    <tr style=\"text-align: right;\">\n",
              "      <th></th>\n",
              "      <th>Name of Candidate</th>\n",
              "      <th>College / Company Name</th>\n",
              "      <th>Unnamed: 2</th>\n",
              "      <th>Unnamed: 3</th>\n",
              "      <th>Designation / Year of Engineering</th>\n",
              "      <th>Applying For</th>\n",
              "      <th>Share Your Knowledge / Work Done on the technology chosen :</th>\n",
              "      <th>Reference, if any :</th>\n",
              "    </tr>\n",
              "  </thead>\n",
              "  <tbody>\n",
              "    <tr>\n",
              "      <th>0</th>\n",
              "      <td>Preeti Chauhan</td>\n",
              "      <td>Shri Ram Murti Smarak College of Engineering a...</td>\n",
              "      <td>NaN</td>\n",
              "      <td>NaN</td>\n",
              "      <td>2021</td>\n",
              "      <td>Machine Learning</td>\n",
              "      <td>NaN</td>\n",
              "      <td>NaN</td>\n",
              "    </tr>\n",
              "    <tr>\n",
              "      <th>1</th>\n",
              "      <td>Rahul Banik</td>\n",
              "      <td>Techno Engineering College Banipur</td>\n",
              "      <td>NaN</td>\n",
              "      <td>NaN</td>\n",
              "      <td>3rd year</td>\n",
              "      <td>Machine Learning</td>\n",
              "      <td>NaN</td>\n",
              "      <td>NaN</td>\n",
              "    </tr>\n",
              "    <tr>\n",
              "      <th>2</th>\n",
              "      <td>Murli Jha</td>\n",
              "      <td>KALINGA INSTITUTE OF INDUSTRIAL TECHNOLOGY</td>\n",
              "      <td>NaN</td>\n",
              "      <td>NaN</td>\n",
              "      <td>2nd year</td>\n",
              "      <td>Machine Learning</td>\n",
              "      <td>NaN</td>\n",
              "      <td>NaN</td>\n",
              "    </tr>\n",
              "    <tr>\n",
              "      <th>3</th>\n",
              "      <td>Prerana Shrivastava</td>\n",
              "      <td>Vikrant institute of technology and management</td>\n",
              "      <td>NaN</td>\n",
              "      <td>NaN</td>\n",
              "      <td>2 year</td>\n",
              "      <td>Machine Learning</td>\n",
              "      <td>Na</td>\n",
              "      <td>Na</td>\n",
              "    </tr>\n",
              "    <tr>\n",
              "      <th>4</th>\n",
              "      <td>RAJAMAHENDRAM SAI JAYANTH</td>\n",
              "      <td>R.M.K college of engineering and technology</td>\n",
              "      <td>NaN</td>\n",
              "      <td>NaN</td>\n",
              "      <td>B.E(2021)</td>\n",
              "      <td>App Development</td>\n",
              "      <td>NaN</td>\n",
              "      <td>NaN</td>\n",
              "    </tr>\n",
              "  </tbody>\n",
              "</table>\n",
              "</div>"
            ],
            "text/plain": [
              "           Name of Candidate  ... Reference, if any :\n",
              "0            Preeti Chauhan   ...                 NaN\n",
              "1                Rahul Banik  ...                 NaN\n",
              "2                  Murli Jha  ...                 NaN\n",
              "3        Prerana Shrivastava  ...                  Na\n",
              "4  RAJAMAHENDRAM SAI JAYANTH  ...                 NaN\n",
              "\n",
              "[5 rows x 8 columns]"
            ]
          },
          "metadata": {
            "tags": []
          },
          "execution_count": 14
        },
        {
          "output_type": "stream",
          "text": [
            " database. History logging moved to new session 60\n"
          ],
          "name": "stdout"
        }
      ]
    },
    {
      "cell_type": "code",
      "metadata": {
        "id": "cJGNQn9i8ndl",
        "colab_type": "code",
        "colab": {}
      },
      "source": [
        "rdata.drop(columns=(rdata.columns[5]),inplace=True)"
      ],
      "execution_count": 0,
      "outputs": []
    },
    {
      "cell_type": "code",
      "metadata": {
        "id": "Sq8uBFJ58313",
        "colab_type": "code",
        "colab": {}
      },
      "source": [
        "rdata.dropna(axis=1,how='all',inplace=True)"
      ],
      "execution_count": 0,
      "outputs": []
    },
    {
      "cell_type": "code",
      "metadata": {
        "id": "Ak9NHOF__Al_",
        "colab_type": "code",
        "colab": {}
      },
      "source": [
        "rdata.dropna(axis=0,how='any',inplace=True)"
      ],
      "execution_count": 0,
      "outputs": []
    },
    {
      "cell_type": "code",
      "metadata": {
        "id": "OgzvFZdqABAY",
        "colab_type": "code",
        "outputId": "18acbcde-546c-48f5-f74b-f86acfd1e384",
        "colab": {
          "base_uri": "https://localhost:8080/",
          "height": 118
        }
      },
      "source": [
        "rdata.isna().sum()"
      ],
      "execution_count": 0,
      "outputs": [
        {
          "output_type": "execute_result",
          "data": {
            "text/plain": [
              "Name of Candidate                                               0\n",
              "College / Company Name                                          0\n",
              "Designation / Year of Engineering                               0\n",
              "Applying For                                                    0\n",
              "Share Your Knowledge / Work Done on the technology chosen :     0\n",
              "dtype: int64"
            ]
          },
          "metadata": {
            "tags": []
          },
          "execution_count": 34
        }
      ]
    },
    {
      "cell_type": "code",
      "metadata": {
        "id": "P7jHY3cyA65O",
        "colab_type": "code",
        "outputId": "1458c830-6f9c-487f-921f-0af3ac5f0480",
        "colab": {
          "base_uri": "https://localhost:8080/",
          "height": 262
        }
      },
      "source": [
        "rdata.tail()"
      ],
      "execution_count": 0,
      "outputs": [
        {
          "output_type": "execute_result",
          "data": {
            "text/html": [
              "<div>\n",
              "<style scoped>\n",
              "    .dataframe tbody tr th:only-of-type {\n",
              "        vertical-align: middle;\n",
              "    }\n",
              "\n",
              "    .dataframe tbody tr th {\n",
              "        vertical-align: top;\n",
              "    }\n",
              "\n",
              "    .dataframe thead th {\n",
              "        text-align: right;\n",
              "    }\n",
              "</style>\n",
              "<table border=\"1\" class=\"dataframe\">\n",
              "  <thead>\n",
              "    <tr style=\"text-align: right;\">\n",
              "      <th></th>\n",
              "      <th>Name of Candidate</th>\n",
              "      <th>College / Company Name</th>\n",
              "      <th>Designation / Year of Engineering</th>\n",
              "      <th>Applying For</th>\n",
              "      <th>Share Your Knowledge / Work Done on the technology chosen :</th>\n",
              "    </tr>\n",
              "  </thead>\n",
              "  <tbody>\n",
              "    <tr>\n",
              "      <th>809</th>\n",
              "      <td>Naveen Kolli</td>\n",
              "      <td>Capgemini</td>\n",
              "      <td>Senior Manager/AI Lead</td>\n",
              "      <td>Deep Learning</td>\n",
              "      <td>Computer vision/Facial Recognition/Object Reco...</td>\n",
              "    </tr>\n",
              "    <tr>\n",
              "      <th>810</th>\n",
              "      <td>Naveen Kolli</td>\n",
              "      <td>Capgemini</td>\n",
              "      <td>Sr.Manager/AI Lead</td>\n",
              "      <td>Drone</td>\n",
              "      <td>object recognition using DL frameworks ie: Ten...</td>\n",
              "    </tr>\n",
              "    <tr>\n",
              "      <th>811</th>\n",
              "      <td>Naveen Kolli</td>\n",
              "      <td>Capgemini</td>\n",
              "      <td>Sr.Manager/AL Lead</td>\n",
              "      <td>Machine Learning</td>\n",
              "      <td>many usecases on prediction done with in company</td>\n",
              "    </tr>\n",
              "    <tr>\n",
              "      <th>812</th>\n",
              "      <td>Sahil Sheikh</td>\n",
              "      <td>Smt. Radhikatai Pandav College of Engineering</td>\n",
              "      <td>4 year</td>\n",
              "      <td>Machine Learning</td>\n",
              "      <td>So successfully I created COVID-19 detection s...</td>\n",
              "    </tr>\n",
              "    <tr>\n",
              "      <th>813</th>\n",
              "      <td>Neha</td>\n",
              "      <td>GNA University</td>\n",
              "      <td>Second</td>\n",
              "      <td>Others</td>\n",
              "      <td>I know about ethical hacking some little wit o...</td>\n",
              "    </tr>\n",
              "  </tbody>\n",
              "</table>\n",
              "</div>"
            ],
            "text/plain": [
              "    Name of Candidate  ... Share Your Knowledge / Work Done on the technology chosen : \n",
              "809      Naveen Kolli  ...  Computer vision/Facial Recognition/Object Reco...          \n",
              "810      Naveen Kolli  ...  object recognition using DL frameworks ie: Ten...          \n",
              "811      Naveen Kolli  ...   many usecases on prediction done with in company          \n",
              "812      Sahil Sheikh  ...  So successfully I created COVID-19 detection s...          \n",
              "813              Neha  ...  I know about ethical hacking some little wit o...          \n",
              "\n",
              "[5 rows x 5 columns]"
            ]
          },
          "metadata": {
            "tags": []
          },
          "execution_count": 35
        }
      ]
    },
    {
      "cell_type": "code",
      "metadata": {
        "id": "JdErwuQzBAq_",
        "colab_type": "code",
        "colab": {}
      },
      "source": [
        "rdata.to_csv(r'/content/covid project - Sheet2.csv', index = False)"
      ],
      "execution_count": 0,
      "outputs": []
    },
    {
      "cell_type": "code",
      "metadata": {
        "id": "hfFlWEe1BgFY",
        "colab_type": "code",
        "colab": {}
      },
      "source": [
        "nd=pd.read_csv(\"/content/covid project - Sheet2.csv\")"
      ],
      "execution_count": 0,
      "outputs": []
    },
    {
      "cell_type": "code",
      "metadata": {
        "id": "rnq36jIUCxe8",
        "colab_type": "code",
        "colab": {}
      },
      "source": [
        "df=pd.DataFrame(nd)"
      ],
      "execution_count": 0,
      "outputs": []
    },
    {
      "cell_type": "code",
      "metadata": {
        "id": "lxjjTeiEDzPw",
        "colab_type": "code",
        "outputId": "cf1e3509-d35e-47bb-8781-fbd9769f3cda",
        "colab": {
          "base_uri": "https://localhost:8080/",
          "height": 296
        }
      },
      "source": [
        "df.head()"
      ],
      "execution_count": 0,
      "outputs": [
        {
          "output_type": "execute_result",
          "data": {
            "text/html": [
              "<div>\n",
              "<style scoped>\n",
              "    .dataframe tbody tr th:only-of-type {\n",
              "        vertical-align: middle;\n",
              "    }\n",
              "\n",
              "    .dataframe tbody tr th {\n",
              "        vertical-align: top;\n",
              "    }\n",
              "\n",
              "    .dataframe thead th {\n",
              "        text-align: right;\n",
              "    }\n",
              "</style>\n",
              "<table border=\"1\" class=\"dataframe\">\n",
              "  <thead>\n",
              "    <tr style=\"text-align: right;\">\n",
              "      <th></th>\n",
              "      <th>Name of Candidate</th>\n",
              "      <th>College / Company Name</th>\n",
              "      <th>Designation / Year of Engineering</th>\n",
              "      <th>Applying For</th>\n",
              "      <th>Share Your Knowledge / Work Done on the technology chosen :</th>\n",
              "    </tr>\n",
              "  </thead>\n",
              "  <tbody>\n",
              "    <tr>\n",
              "      <th>0</th>\n",
              "      <td>Prerana Shrivastava</td>\n",
              "      <td>Vikrant institute of technology and management</td>\n",
              "      <td>2 year</td>\n",
              "      <td>Machine Learning</td>\n",
              "      <td>Na</td>\n",
              "    </tr>\n",
              "    <tr>\n",
              "      <th>1</th>\n",
              "      <td>Siddharth Dange</td>\n",
              "      <td>Technocrats Institute of technology (excellence)</td>\n",
              "      <td>2nd year in B-tech cse branch</td>\n",
              "      <td>Machine Learning</td>\n",
              "      <td>I am working on Weather prediction model using...</td>\n",
              "    </tr>\n",
              "    <tr>\n",
              "      <th>2</th>\n",
              "      <td>Aman Pradhan</td>\n",
              "      <td>Technocrats group of institutions ( excellence)</td>\n",
              "      <td>2021</td>\n",
              "      <td>Others</td>\n",
              "      <td>No</td>\n",
              "    </tr>\n",
              "    <tr>\n",
              "      <th>3</th>\n",
              "      <td>Vishnu M</td>\n",
              "      <td>JECRC UNIVERSITY</td>\n",
              "      <td>2nd year</td>\n",
              "      <td>Deep Learning</td>\n",
              "      <td>Have 2 udacity nanodegrees and a coursera cert...</td>\n",
              "    </tr>\n",
              "    <tr>\n",
              "      <th>4</th>\n",
              "      <td>Shreeansh Srivastava</td>\n",
              "      <td>Poornima College of engineering</td>\n",
              "      <td>2yr</td>\n",
              "      <td>Machine Learning</td>\n",
              "      <td>Python</td>\n",
              "    </tr>\n",
              "  </tbody>\n",
              "</table>\n",
              "</div>"
            ],
            "text/plain": [
              "      Name of Candidate  ... Share Your Knowledge / Work Done on the technology chosen : \n",
              "0   Prerana Shrivastava  ...                                                 Na          \n",
              "1       Siddharth Dange  ...  I am working on Weather prediction model using...          \n",
              "2          Aman Pradhan  ...                                                 No          \n",
              "3              Vishnu M  ...  Have 2 udacity nanodegrees and a coursera cert...          \n",
              "4  Shreeansh Srivastava  ...                                             Python          \n",
              "\n",
              "[5 rows x 5 columns]"
            ]
          },
          "metadata": {
            "tags": []
          },
          "execution_count": 50
        }
      ]
    },
    {
      "cell_type": "code",
      "metadata": {
        "id": "YkTyX5F9D2bH",
        "colab_type": "code",
        "colab": {}
      },
      "source": [
        ""
      ],
      "execution_count": 0,
      "outputs": []
    },
    {
      "cell_type": "code",
      "metadata": {
        "id": "83kEFUK2Ephb",
        "colab_type": "code",
        "colab": {}
      },
      "source": [
        ""
      ],
      "execution_count": 0,
      "outputs": []
    },
    {
      "cell_type": "code",
      "metadata": {
        "id": "fnf6AWA-FrzU",
        "colab_type": "code",
        "colab": {}
      },
      "source": [
        ""
      ],
      "execution_count": 0,
      "outputs": []
    },
    {
      "cell_type": "code",
      "metadata": {
        "id": "ryGIcunXIABX",
        "colab_type": "code",
        "colab": {}
      },
      "source": [
        ""
      ],
      "execution_count": 0,
      "outputs": []
    }
  ]
}