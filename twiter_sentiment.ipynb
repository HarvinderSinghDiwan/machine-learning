{
  "nbformat": 4,
  "nbformat_minor": 0,
  "metadata": {
    "colab": {
      "name": "twiter_sentiment.ipynb",
      "version": "0.3.2",
      "provenance": [],
      "collapsed_sections": [],
      "include_colab_link": true
    },
    "kernelspec": {
      "name": "python3",
      "display_name": "Python 3"
    }
  },
  "cells": [
    {
      "cell_type": "markdown",
      "metadata": {
        "id": "view-in-github",
        "colab_type": "text"
      },
      "source": [
        "<a href=\"https://colab.research.google.com/github/vvicky30/machine-learning/blob/supervised-ml/twiter_sentiment.ipynb\" target=\"_parent\"><img src=\"https://colab.research.google.com/assets/colab-badge.svg\" alt=\"Open In Colab\"/></a>"
      ]
    },
    {
      "cell_type": "markdown",
      "metadata": {
        "id": "veOjoLdYKPZP",
        "colab_type": "text"
      },
      "source": [
        "data extraction(source can be a twiter, facebook,or instagram)------>tockenize------>lemmatize-------->NLP(procedures with polarity-concept)------->then analysing sentiments of cooreponding data\n",
        "\n",
        "\n",
        "this is called as i.e twiter sentiment analysis,\n",
        "                                  facebook sentiment analysis,\n",
        "                                   instagram sentiment  analysis ,etc....\n",
        "                                   \n",
        "                                   \n",
        "                                   #####or in general for going through the whole process instead of it, we can use the textblob"
      ]
    },
    {
      "cell_type": "code",
      "metadata": {
        "id": "S_pKmxKULX8E",
        "colab_type": "code",
        "colab": {}
      },
      "source": [
        "import tweepy\n",
        "import matplotlib.pyplot as plt\n",
        "import time\n",
        "from textblob import TextBlob"
      ],
      "execution_count": 0,
      "outputs": []
    },
    {
      "cell_type": "code",
      "metadata": {
        "id": "wVqOig_3LhSu",
        "colab_type": "code",
        "colab": {}
      },
      "source": [
        "# all 4 authentication keys to access twitter API\n",
        "# to connect as OAuth handler or jump-server /reverse proxy server\n",
        "consumer_key=\"kFxccFQifoEQaZ6PUxsIUbaqx\"\n",
        "consumer_sec=\"DY3O2Ehpnves4Y24h9zaJC4k3brfSrjygQUUrJcx38mjt6X4mo\"\n",
        "\n",
        "# from proxy server we need to connect to web server of twitter\n",
        "access_token=\"1094500234556715010-Amri9nysuLO38qAmJtBnB18TialVz0\"\n",
        "access_sec=\"Uvcl627b5SHQSDp1JvjTHI9hWjJlAUvj7aqIL4kPR3DeK\""
      ],
      "execution_count": 0,
      "outputs": []
    },
    {
      "cell_type": "code",
      "metadata": {
        "id": "g_JcS5vBXO91",
        "colab_type": "code",
        "colab": {}
      },
      "source": [
        "# tweepy explore\n",
        "# connecting to jump server of twitter\n",
        "auth = tweepy.OAuthHandler(consumer_key,consumer_sec)"
      ],
      "execution_count": 0,
      "outputs": []
    },
    {
      "cell_type": "code",
      "metadata": {
        "id": "gquv9P98XZ17",
        "colab_type": "code",
        "colab": {}
      },
      "source": [
        "# now we can connect from jump server to web server of twitter\n",
        "auth.set_access_token(access_token,access_sec)"
      ],
      "execution_count": 0,
      "outputs": []
    },
    {
      "cell_type": "code",
      "metadata": {
        "id": "yVUkMgCPZKYE",
        "colab_type": "code",
        "colab": {}
      },
      "source": [
        "# now we can connect to API storage server of twitter\n",
        "api_connect=tweepy.API(auth)"
      ],
      "execution_count": 0,
      "outputs": []
    },
    {
      "cell_type": "code",
      "metadata": {
        "id": "E5dmICrIZMpJ",
        "colab_type": "code",
        "colab": {}
      },
      "source": [
        "# now you can search any topic on twitter\n",
        "tweet_data=api_connect.search('jammu and kashmir',count=20)"
      ],
      "execution_count": 0,
      "outputs": []
    },
    {
      "cell_type": "code",
      "metadata": {
        "id": "NzcFODgPZTW_",
        "colab_type": "code",
        "colab": {
          "base_uri": "https://localhost:8080/",
          "height": 1000
        },
        "outputId": "4649fe1b-b744-489e-92e2-0f08411512a2"
      },
      "source": [
        "pos=0\n",
        "neg=0              #variable for sentiments such as negative,positive,negative ones\n",
        "neu=0\n",
        "# printing line by line\n",
        "for tweet in tweet_data:\n",
        "    #print(tweet.text)\n",
        "    analys=TextBlob(tweet.text)   # here it will apply NLP\n",
        "    print(analys.sentiment)\n",
        "    # now checking polarity\n",
        "    if analys.sentiment.polarity>0:\n",
        "        print(\"Positive\")\n",
        "        pos+=1\n",
        "    elif analys.sentiment.polarity==0:\n",
        "        print(\"Neutral\")\n",
        "        neu+=1\n",
        "    else:\n",
        "        print(\"Negative\")\n",
        "        neg+=1\n",
        "        \n",
        "# plotting graphs\n",
        "plt.figure(0)\n",
        "plt.bar(['pos','neu','neg'],[pos,neu,neg])#for plotting bars\n",
        "plt.figure(1)\n",
        "plt.pie([pos,neu,neg],labels=['pos','neu','neg'],explode=[0.2,0,0],shadow=True,autopct='%1.1f%%')  #for plotting pie-chart\n",
        "plt.show()"
      ],
      "execution_count": 66,
      "outputs": [
        {
          "output_type": "stream",
          "text": [
            "Sentiment(polarity=0.8, subjectivity=1.0)\n",
            "Positive\n",
            "Sentiment(polarity=0.165, subjectivity=0.45999999999999996)\n",
            "Positive\n",
            "Sentiment(polarity=0.13636363636363635, subjectivity=0.5)\n",
            "Positive\n",
            "Sentiment(polarity=0.325, subjectivity=0.625)\n",
            "Positive\n",
            "Sentiment(polarity=-0.2, subjectivity=0.0)\n",
            "Negative\n",
            "Sentiment(polarity=0.0, subjectivity=0.0)\n",
            "Neutral\n",
            "Sentiment(polarity=0.0, subjectivity=0.0)\n",
            "Neutral\n",
            "Sentiment(polarity=0.0, subjectivity=0.0)\n",
            "Neutral\n",
            "Sentiment(polarity=0.0, subjectivity=0.0)\n",
            "Neutral\n",
            "Sentiment(polarity=0.0, subjectivity=0.3)\n",
            "Neutral\n",
            "Sentiment(polarity=-0.0625, subjectivity=0.5625)\n",
            "Negative\n",
            "Sentiment(polarity=0.4, subjectivity=1.0)\n",
            "Positive\n",
            "Sentiment(polarity=0.0, subjectivity=0.0)\n",
            "Neutral\n",
            "Sentiment(polarity=0.2, subjectivity=0.1)\n",
            "Positive\n",
            "Sentiment(polarity=0.0625, subjectivity=0.5)\n",
            "Positive\n",
            "Sentiment(polarity=-0.2, subjectivity=0.0)\n",
            "Negative\n",
            "Sentiment(polarity=0.3181818181818182, subjectivity=0.6022727272727273)\n",
            "Positive\n",
            "Sentiment(polarity=-0.0625, subjectivity=0.5625)\n",
            "Negative\n",
            "Sentiment(polarity=-0.2, subjectivity=0.3)\n",
            "Negative\n"
          ],
          "name": "stdout"
        },
        {
          "output_type": "display_data",
          "data": {
            "image/png": "[encoded data removed]",
            "text/plain": [
              "<Figure size 432x288 with 1 Axes>"
            ]
          },
          "metadata": {
            "tags": []
          }
        },
        {
          "output_type": "display_data",
          "data": {
            "image/png": "[encoded data removed]",
            "text/plain": [
              "<Figure size 432x288 with 1 Axes>"
            ]
          },
          "metadata": {
            "tags": []
          }
        }
      ]
    },
    {
      "cell_type": "code",
      "metadata": {
        "id": "hjcjv9htZe5d",
        "colab_type": "code",
        "colab": {}
      },
      "source": [
        ""
      ],
      "execution_count": 0,
      "outputs": []
    },
    {
      "cell_type": "code",
      "metadata": {
        "id": "opDWIXBPdZHl",
        "colab_type": "code",
        "colab": {}
      },
      "source": [
        ""
      ],
      "execution_count": 0,
      "outputs": []
    }
  ]
}