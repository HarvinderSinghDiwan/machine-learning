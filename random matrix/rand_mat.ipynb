{
 "cells": [
  {
   "cell_type": "code",
   "execution_count": 1,
   "metadata": {},
   "outputs": [
    {
     "name": "stdout",
     "output_type": "stream",
     "text": [
      "Enter Dimensions:\n",
      "Row:2\n",
      "Column:3\n",
      "[[9 8 6]\n",
      " [6 6 2]]\n"
     ]
    }
   ],
   "source": [
    "import numpy as np\n",
    "\n",
    "print(\"Enter Dimensions:\")\n",
    "r=int(input(\"Row:\"))\n",
    "c=int(input(\"Column:\"))\n",
    "\n",
    "arr = np.random.randint(low=1,high=10,size=(r,c))\n",
    "print(arr)\n",
    "\n",
    "with open(\"pynumfile.txt\",\"w\") as f:\n",
    "    f.write(str(arr))"
   ]
  },
  {
   "cell_type": "code",
   "execution_count": null,
   "metadata": {},
   "outputs": [],
   "source": []
  }
 ],
 "metadata": {
  "kernelspec": {
   "display_name": "Python 3",
   "language": "python",
   "name": "python3"
  },
  "language_info": {
   "codemirror_mode": {
    "name": "ipython",
    "version": 3
   },
   "file_extension": ".py",
   "mimetype": "text/x-python",
   "name": "python",
   "nbconvert_exporter": "python",
   "pygments_lexer": "ipython3",
   "version": "3.7.3"
  }
 },
 "nbformat": 4,
 "nbformat_minor": 2
}
