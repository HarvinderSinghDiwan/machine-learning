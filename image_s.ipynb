{
 "cells": [
  {
   "cell_type": "code",
   "execution_count": 2,
   "metadata": {},
   "outputs": [],
   "source": [
    "#impoting computer vision library\n",
    "import cv2\n",
    "import sys"
   ]
  },
  {
   "cell_type": "code",
   "execution_count": 3,
   "metadata": {},
   "outputs": [
    {
     "name": "stdout",
     "output_type": "stream",
     "text": [
      "3.4.1\n"
     ]
    }
   ],
   "source": [
    "#### version\n",
    "print(cv2.__version__)"
   ]
  },
  {
   "cell_type": "code",
   "execution_count": 14,
   "metadata": {},
   "outputs": [
    {
     "data": {
      "text/plain": [
       "'-f'"
      ]
     },
     "execution_count": 14,
     "metadata": {},
     "output_type": "execute_result"
    }
   ],
   "source": [
    "#image name as first argument\n",
    "data=sys.argv[1]\n",
    "data      #if we want to give imafe file by command-line........after the as:\n",
    "             #python3 image_s.py 'puchman.jpg'    .........so its preview image as output in shell"
   ]
  },
  {
   "cell_type": "code",
   "execution_count": 16,
   "metadata": {},
   "outputs": [
    {
     "name": "stdout",
     "output_type": "stream",
     "text": [
      "[[[ 18  19  17]\n",
      "  [  0   1   0]\n",
      "  [  0   0   0]\n",
      "  ...\n",
      "  [ 16  15  11]\n",
      "  [  4   3   0]\n",
      "  [  0   0   0]]\n",
      "\n",
      " [[  0   1   0]\n",
      "  [255 255 255]\n",
      "  [246 248 248]\n",
      "  ...\n",
      "  [240 239 235]\n",
      "  [255 254 250]\n",
      "  [  0   0   0]]\n",
      "\n",
      " [[  7   7   7]\n",
      "  [253 255 255]\n",
      "  [151 153 154]\n",
      "  ...\n",
      "  [ 62  61  57]\n",
      "  [255 254 250]\n",
      "  [  0   0   0]]\n",
      "\n",
      " ...\n",
      "\n",
      " [[  7   5  11]\n",
      "  [233 233 239]\n",
      "  [ 27  33  40]\n",
      "  ...\n",
      "  [ 39  42  56]\n",
      "  [236 240 251]\n",
      "  [  0   1   2]]\n",
      "\n",
      " [[  0   0   4]\n",
      "  [249 249 255]\n",
      "  [241 247 252]\n",
      "  ...\n",
      "  [235 238 246]\n",
      "  [250 253 255]\n",
      "  [  0   0   1]]\n",
      "\n",
      " [[ 17  16  18]\n",
      "  [  7   8  12]\n",
      "  [  0   0   3]\n",
      "  ...\n",
      "  [ 15  16  20]\n",
      "  [  4   6   7]\n",
      "  [  0   0   0]]]\n"
     ]
    }
   ],
   "source": [
    "###image read\n",
    "img=cv2.imread('punchman.jpg',1)#loading image in original color ---original image\n",
    "print(img)\n"
   ]
  },
  {
   "cell_type": "code",
   "execution_count": 17,
   "metadata": {},
   "outputs": [
    {
     "name": "stdout",
     "output_type": "stream",
     "text": [
      "(350, 225, 3)\n"
     ]
    }
   ],
   "source": [
    "#shape\n",
    "print(img.shape)\n",
    "###height,width,color-channel"
   ]
  },
  {
   "cell_type": "code",
   "execution_count": 24,
   "metadata": {},
   "outputs": [
    {
     "data": {
      "text/plain": [
       "-1"
      ]
     },
     "execution_count": 24,
     "metadata": {},
     "output_type": "execute_result"
    }
   ],
   "source": [
    "#to shoe image\n",
    "cv2.imshow('windowname',img)    #show normally\n",
    "cv2.imshow('windowname1',img-50)    #exceed RGB or BGR by 50 in whole img\n",
    "cv2.imshow('subsetedwindow',img[0:,100:255]*3)  #we can subset image then 3times increse RGB 0r BGR\n",
    "cv2.imshow('windowname2',img/3)\n",
    "cv2.waitKey(0)"
   ]
  },
  {
   "cell_type": "code",
   "execution_count": 23,
   "metadata": {},
   "outputs": [
    {
     "data": {
      "text/plain": [
       "True"
      ]
     },
     "execution_count": 23,
     "metadata": {},
     "output_type": "execute_result"
    }
   ],
   "source": [
    "#to sAVING image\n",
    "cv2.imwrite('newpuchman.jpg',img/3)"
   ]
  },
  {
   "cell_type": "code",
   "execution_count": null,
   "metadata": {},
   "outputs": [],
   "source": []
  }
 ],
 "metadata": {
  "kernelspec": {
   "display_name": "Python 3",
   "language": "python",
   "name": "python3"
  },
  "language_info": {
   "codemirror_mode": {
    "name": "ipython",
    "version": 3
   },
   "file_extension": ".py",
   "mimetype": "text/x-python",
   "name": "python",
   "nbconvert_exporter": "python",
   "pygments_lexer": "ipython3",
   "version": "3.7.3"
  }
 },
 "nbformat": 4,
 "nbformat_minor": 2
}
