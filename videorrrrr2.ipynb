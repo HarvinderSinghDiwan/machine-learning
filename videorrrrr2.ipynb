{
 "cells": [
  {
   "cell_type": "code",
   "execution_count": 21,
   "metadata": {},
   "outputs": [],
   "source": [
    "import cv2"
   ]
  },
  {
   "cell_type": "code",
   "execution_count": 22,
   "metadata": {},
   "outputs": [],
   "source": [
    "#starting camera\n",
    "cap=cv2.VideoCapture(0)\n"
   ]
  },
  {
   "cell_type": "code",
   "execution_count": 23,
   "metadata": {},
   "outputs": [],
   "source": [
    "#adding pluggin to store video-data\n",
    "plugin=cv2.VideoWriter_fourcc(*'XVID')#we used VideoWriter-fuction where we used '*'XVID'' means all formats of video are supported and make plugin\n",
    "#now saving video\n",
    "output=cv2.VideoWriter('vedeooos2.avi',plugin,20,(640,480))  #gor sving we use 'plugin'-variable and'20'-images per seconds are saved ..here(480,640) is the shape of frame or resolution\n",
    "  #during giving resolution first of all giving width then height"
   ]
  },
  {
   "cell_type": "code",
   "execution_count": 24,
   "metadata": {},
   "outputs": [],
   "source": [
    "while cap.isOpened():\n",
    "    status,frame=cap.read()\n",
    "    cv2.imshow('LIVE',frame)\n",
    "    output.write(frame)#sending data to VideoWriter\n",
    "    \n",
    "    if cv2.waitKey(10) & 0xff ==ord('q'):    #here '0xff ==ord('q')' is used to take the keyboard-input for eliminating loop\n",
    "        break\n",
    "    \n",
    "#cv2.destroyWindow('live')\n",
    "cv2.destroyAllWindows()  #this is will destroy all Windows\n",
    "    "
   ]
  },
  {
   "cell_type": "code",
   "execution_count": 25,
   "metadata": {},
   "outputs": [],
   "source": [
    "cap.release()"
   ]
  },
  {
   "cell_type": "code",
   "execution_count": null,
   "metadata": {},
   "outputs": [],
   "source": []
  }
 ],
 "metadata": {
  "kernelspec": {
   "display_name": "Python 3",
   "language": "python",
   "name": "python3"
  },
  "language_info": {
   "codemirror_mode": {
    "name": "ipython",
    "version": 3
   },
   "file_extension": ".py",
   "mimetype": "text/x-python",
   "name": "python",
   "nbconvert_exporter": "python",
   "pygments_lexer": "ipython3",
   "version": "3.7.3"
  }
 },
 "nbformat": 4,
 "nbformat_minor": 2
}
