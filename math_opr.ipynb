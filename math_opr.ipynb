{
 "cells": [
  {
   "cell_type": "code",
   "execution_count": 1,
   "metadata": {},
   "outputs": [
    {
     "name": "stdout",
     "output_type": "stream",
     "text": [
      "[14 16 19 20]\n",
      "[24 39 70 84]\n",
      "[ 7  8 10 11]\n"
     ]
    }
   ],
   "source": [
    "import numpy as np\n",
    "\n",
    "#creating 1D array\n",
    "\n",
    "a=np.array([2,3,5,6])\n",
    "b=np.array([12,13,14,14])\n",
    "\n",
    "#add same D array\n",
    "c=a+b\n",
    "print(c)\n",
    "\n",
    "#multi\n",
    "m=a*b\n",
    "print(m)\n",
    "\n",
    "#add particular value in each element of array\n",
    "a5=a+5\n",
    "print(a5)"
   ]
  },
  {
   "cell_type": "code",
   "execution_count": null,
   "metadata": {},
   "outputs": [],
   "source": []
  }
 ],
 "metadata": {
  "kernelspec": {
   "display_name": "Python 3",
   "language": "python",
   "name": "python3"
  },
  "language_info": {
   "codemirror_mode": {
    "name": "ipython",
    "version": 3
   },
   "file_extension": ".py",
   "mimetype": "text/x-python",
   "name": "python",
   "nbconvert_exporter": "python",
   "pygments_lexer": "ipython3",
   "version": "3.7.3"
  }
 },
 "nbformat": 4,
 "nbformat_minor": 2
}
