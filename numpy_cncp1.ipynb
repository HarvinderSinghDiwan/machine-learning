{
 "cells": [
  {
   "cell_type": "code",
   "execution_count": 1,
   "metadata": {},
   "outputs": [],
   "source": [
    "import numpy as np\n"
   ]
  },
  {
   "cell_type": "code",
   "execution_count": 15,
   "metadata": {},
   "outputs": [
    {
     "name": "stdout",
     "output_type": "stream",
     "text": [
      "[ 1.   33.87 48.44 55.   48.  ]\n",
      "float64\n",
      "<class 'numpy.ndarray'>\n"
     ]
    }
   ],
   "source": [
    "#now creating arrays\n",
    "from numpy import array\n",
    "\n",
    "l=[1.0,33.87,48.44,55,48]  #list of float numbers\n",
    "farray=array(l)   #creating array\n",
    "print(farray)   #displaying\n",
    "print(farray.dtype)  #for displaying datatype\n",
    "print(type(farray)) #for displying  type"
   ]
  },
  {
   "cell_type": "code",
   "execution_count": 32,
   "metadata": {},
   "outputs": [
    {
     "name": "stdout",
     "output_type": "stream",
     "text": [
      "[[6.23042070e-307 4.67296746e-307 1.69121096e-306]\n",
      " [6.23058707e-307 8.45593934e-307 7.56593017e-307]\n",
      " [1.11261027e-306 1.11261502e-306 1.42410839e-306]\n",
      " [7.56597770e-307 6.23059726e-307 1.42419530e-306]\n",
      " [1.37961302e-306 1.78019082e-306 1.33511562e-306]\n",
      " [8.45596650e-307 2.22522596e-306 2.22522596e-306]]\n"
     ]
    }
   ],
   "source": [
    "#now creating empty array\n",
    "from numpy import empty\n",
    "E=empty([6,3])  #here we the arguments to the function is an array or tuple that specifies length as here its 6x3\n",
    "print(E)# displaying random numbers of matrix"
   ]
  },
  {
   "cell_type": "code",
   "execution_count": 34,
   "metadata": {},
   "outputs": [
    {
     "name": "stdout",
     "output_type": "stream",
     "text": [
      "[[0. 0. 0. 0. 0.]\n",
      " [0. 0. 0. 0. 0.]\n",
      " [0. 0. 0. 0. 0.]]\n"
     ]
    }
   ],
   "source": [
    "#now creating  zeros \n",
    "Z=np.zeros([3,5])\n",
    "print(Z)"
   ]
  },
  {
   "cell_type": "code",
   "execution_count": 36,
   "metadata": {},
   "outputs": [
    {
     "name": "stdout",
     "output_type": "stream",
     "text": [
      "[[1. 1. 1.]\n",
      " [1. 1. 1.]\n",
      " [1. 1. 1.]\n",
      " [1. 1. 1.]\n",
      " [1. 1. 1.]]\n"
     ]
    }
   ],
   "source": [
    "#noe creating ones\n",
    "O=np.ones([5,3])\n",
    "print(O)"
   ]
  },
  {
   "cell_type": "code",
   "execution_count": 43,
   "metadata": {},
   "outputs": [
    {
     "name": "stdout",
     "output_type": "stream",
     "text": [
      "[1 2 3 4 5] [5 4 3 2 1]\n",
      "[[1 2 3 4 5]\n",
      " [5 4 3 2 1]]\n",
      "(2, 5)\n"
     ]
    }
   ],
   "source": [
    "#combining arrays :--------\n",
    "\n",
    "#by using vertical-stack:-----\n",
    "a1=np.array([1,2,3,4,5])\n",
    "a2=np.array([5,4,3,2,1])\n",
    "print(a1,a2)\n",
    "a3=np.vstack((a1,a2))  #combining a1 & a2 vertically as matrix\n",
    "print(a3)    \n",
    "print(a3.shape)     #for displaying shape(i.e order of matrix here..)"
   ]
  },
  {
   "cell_type": "code",
   "execution_count": 46,
   "metadata": {},
   "outputs": [
    {
     "name": "stdout",
     "output_type": "stream",
     "text": [
      "[1 2 3 4 5 5 4 3 2 1]\n",
      "(10,)\n"
     ]
    }
   ],
   "source": [
    "#by using horizontal-stack:-----\n",
    "a4=np.hstack((a1,a2)) #here its combining a1 & a2 horizontally... as merging two arrays\n",
    "print(a4) \n",
    "print(a4.shape)   #for displaying shape (i.e numbers of coulmns)"
   ]
  },
  {
   "cell_type": "markdown",
   "metadata": {},
   "source": [
    "# concept of  subsetting of matrix:-------\n"
   ]
  },
  {
   "cell_type": "code",
   "execution_count": 49,
   "metadata": {},
   "outputs": [
    {
     "name": "stdout",
     "output_type": "stream",
     "text": [
      "[[ 1  2  3  4  5]\n",
      " [ 6  7  8  9 10]\n",
      " [11 12 13 14 15]\n",
      " [16 17 18 19 20]]\n"
     ]
    }
   ],
   "source": [
    "#first of all creating matrix\n",
    "M=np.array([[1,2,3,4,5],[6,7,8,9,10],[11,12,13,14,15],[16,17,18,19,20]])\n",
    "print(M)"
   ]
  },
  {
   "cell_type": "code",
   "execution_count": 55,
   "metadata": {},
   "outputs": [
    {
     "name": "stdout",
     "output_type": "stream",
     "text": [
      "(4, 5)\n",
      "int32\n",
      "<class 'numpy.ndarray'>\n"
     ]
    }
   ],
   "source": [
    "#exploration of matrix\n",
    "print(M.shape)\n",
    "print(M.dtype)\n",
    "print(type(M))"
   ]
  },
  {
   "cell_type": "code",
   "execution_count": 61,
   "metadata": {},
   "outputs": [
    {
     "name": "stdout",
     "output_type": "stream",
     "text": [
      "[ 1  6 11 16]\n",
      "[ 2  7 12 17]\n",
      "[[ 6  7  8  9 10]\n",
      " [11 12 13 14 15]]\n",
      "[[ 7  8  9]\n",
      " [12 13 14]]\n"
     ]
    }
   ],
   "source": [
    "#now practising subsetting  using squre-bracket'[]'  :-----\n",
    "# to see coulmns:-\n",
    "print(M[0:,0])  #here '0:' means all raws from zeroth raw & ',0' means zeroth coulms\n",
    "print(M[0:,1])  #for 1st coulmn\n",
    "print(M[1:3,0:])  #all coulmns from 1st to 2nd rows\n",
    "print(M[1:3,1:4])  #similary we can try thoe"
   ]
  },
  {
   "cell_type": "code",
   "execution_count": 64,
   "metadata": {},
   "outputs": [
    {
     "name": "stdout",
     "output_type": "stream",
     "text": [
      "[11 12 13 14 15]\n",
      "[17 18]\n"
     ]
    }
   ],
   "source": [
    "# to see rows:-----\n",
    "print(M[2,0:]) #whole second row\n",
    "print(M[3,1:3])  #3rd row from 1st to 3rd coulmn"
   ]
  },
  {
   "cell_type": "code",
   "execution_count": 102,
   "metadata": {},
   "outputs": [
    {
     "name": "stdout",
     "output_type": "stream",
     "text": [
      "[[ 1  2  3  4  5]\n",
      " [16 17 18 19 20]]\n",
      "[[ 1  2  3  4  5]\n",
      " [ 6  7  8  9 10]\n",
      " [11 12 13 14 15]\n",
      " [16 17 18 19 20]]\n",
      "[ 1 20]\n",
      "[ 1 16  5 20]\n",
      "[ 6 19]\n"
     ]
    }
   ],
   "source": [
    "#susetting discreately:--\n",
    "print(M[[0,3],0:])  #displaying zeroth & 3rd row\n",
    "print(M)\n",
    "print(M[[0,3],[0,4]]) #fail to subset corner elements of matrix its assume combination of 0*0 &3*4\n",
    "   #but it can subset elements irrelevent to correspondents\n",
    "print(M[[0,3,0,3],[0,0,4,4]])   #this one can subsets the corner elements of matrix\n",
    "print(M[[1,3],[0,3]])  #for subset 6 & 19 irrelevent to correspondents\n",
    "\n"
   ]
  },
  {
   "cell_type": "code",
   "execution_count": 98,
   "metadata": {},
   "outputs": [
    {
     "name": "stdout",
     "output_type": "stream",
     "text": [
      "[[ 1  5]\n",
      " [ 6 10]\n",
      " [11 15]\n",
      " [16 20]]\n",
      "[[ 1  5]\n",
      " [16 20]]\n"
     ]
    }
   ],
   "source": [
    "#method 2 to subsets corners of matrix\n",
    "c=M[0:,[0,4]]\n",
    "print(c)\n",
    "print(c[[0,3],0:])\n"
   ]
  },
  {
   "cell_type": "code",
   "execution_count": null,
   "metadata": {},
   "outputs": [],
   "source": []
  }
 ],
 "metadata": {
  "kernelspec": {
   "display_name": "Python 3",
   "language": "python",
   "name": "python3"
  },
  "language_info": {
   "codemirror_mode": {
    "name": "ipython",
    "version": 3
   },
   "file_extension": ".py",
   "mimetype": "text/x-python",
   "name": "python",
   "nbconvert_exporter": "python",
   "pygments_lexer": "ipython3",
   "version": "3.7.3"
  }
 },
 "nbformat": 4,
 "nbformat_minor": 2
}
