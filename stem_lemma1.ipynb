{
  "nbformat": 4,
  "nbformat_minor": 0,
  "metadata": {
    "colab": {
      "name": "stem_lemma1.ipynb",
      "version": "0.3.2",
      "provenance": [],
      "collapsed_sections": [],
      "include_colab_link": true
    },
    "kernelspec": {
      "name": "python3",
      "display_name": "Python 3"
    }
  },
  "cells": [
    {
      "cell_type": "markdown",
      "metadata": {
        "id": "view-in-github",
        "colab_type": "text"
      },
      "source": [
        "<a href=\"https://colab.research.google.com/github/vvicky30/machine-learning/blob/supervised-ml/stem_lemma1.ipynb\" target=\"_parent\"><img src=\"https://colab.research.google.com/assets/colab-badge.svg\" alt=\"Open In Colab\"/></a>"
      ]
    },
    {
      "cell_type": "code",
      "metadata": {
        "id": "CEDeaf3rBAcY",
        "colab_type": "code",
        "colab": {}
      },
      "source": [
        "from nltk import stem\n",
        "from nltk.stem import PorterStemmer  #for steming\n",
        "from nltk.stem import WordNetLemmatizer  #lemma\n",
        "from nltk.tokenize import sent_tokenize,word_tokenize\n",
        "import time"
      ],
      "execution_count": 0,
      "outputs": []
    },
    {
      "cell_type": "code",
      "metadata": {
        "id": "AtET0dZNBkmJ",
        "colab_type": "code",
        "colab": {}
      },
      "source": [
        "#steming \n",
        "port=PorterStemmer()"
      ],
      "execution_count": 0,
      "outputs": []
    },
    {
      "cell_type": "code",
      "metadata": {
        "id": "7SDddgIdeuxX",
        "colab_type": "code",
        "outputId": "6bf69cbc-cef0-42ab-ddf3-f146435a6ca2",
        "colab": {
          "base_uri": "https://localhost:8080/",
          "height": 173
        }
      },
      "source": [
        "#word supply\n",
        "for i in ['going','gone','go','intelligent','intelligency','intelligently','cars','caring','car']:\n",
        "  print(i,\"stemmed to\",port.stem(i))\n",
        "  time.sleep(1)"
      ],
      "execution_count": 11,
      "outputs": [
        {
          "output_type": "stream",
          "text": [
            "going stemmed to go\n",
            "gone stemmed to gone\n",
            "go stemmed to go\n",
            "intelligent stemmed to intellig\n",
            "intelligency stemmed to intellig\n",
            "intelligently stemmed to intellig\n",
            "cars stemmed to car\n",
            "caring stemmed to care\n",
            "car stemmed to car\n"
          ],
          "name": "stdout"
        }
      ]
    },
    {
      "cell_type": "code",
      "metadata": {
        "id": "v1kphRkwdpw9",
        "colab_type": "code",
        "colab": {
          "base_uri": "https://localhost:8080/",
          "height": 69
        },
        "outputId": "ef5a0314-675d-42bb-84bd-7ceb98e67fa5"
      },
      "source": [
        "import nltk\n",
        "nltk.download('wordnet')"
      ],
      "execution_count": 18,
      "outputs": [
        {
          "output_type": "stream",
          "text": [
            "[nltk_data] Downloading package wordnet to /root/nltk_data...\n",
            "[nltk_data]   Package wordnet is already up-to-date!\n"
          ],
          "name": "stdout"
        },
        {
          "output_type": "execute_result",
          "data": {
            "text/plain": [
              "True"
            ]
          },
          "metadata": {
            "tags": []
          },
          "execution_count": 18
        }
      ]
    },
    {
      "cell_type": "code",
      "metadata": {
        "id": "RwN2li1Ffd7s",
        "colab_type": "code",
        "colab": {
          "base_uri": "https://localhost:8080/",
          "height": 173
        },
        "outputId": "ddd2cbb2-3637-4fb5-8995-599112c371d8"
      },
      "source": [
        "#lemma\n",
        "w=WordNetLemmatizer()\n",
        "for i in ['going','gone','go','intelligent','intelligency','intelligently','cars','caring','car']:\n",
        "  print(i,\"lemmatize to\",w.lemmatize(i))"
      ],
      "execution_count": 20,
      "outputs": [
        {
          "output_type": "stream",
          "text": [
            "going lemmatize to going\n",
            "gone lemmatize to gone\n",
            "go lemmatize to go\n",
            "intelligent lemmatize to intelligent\n",
            "intelligency lemmatize to intelligency\n",
            "intelligently lemmatize to intelligently\n",
            "cars lemmatize to car\n",
            "caring lemmatize to caring\n",
            "car lemmatize to car\n"
          ],
          "name": "stdout"
        }
      ]
    },
    {
      "cell_type": "code",
      "metadata": {
        "id": "N93I9zQZc_nl",
        "colab_type": "code",
        "colab": {}
      },
      "source": [
        ""
      ],
      "execution_count": 0,
      "outputs": []
    },
    {
      "cell_type": "code",
      "metadata": {
        "id": "YGyWLnPodZgt",
        "colab_type": "code",
        "colab": {}
      },
      "source": [
        "import spacy"
      ],
      "execution_count": 0,
      "outputs": []
    },
    {
      "cell_type": "code",
      "metadata": {
        "id": "aYOhA4DOeejW",
        "colab_type": "code",
        "colab": {
          "base_uri": "https://localhost:8080/",
          "height": 34
        },
        "outputId": "4bd94275-0e89-4beb-a6bb-31b3e2ab0f05"
      },
      "source": [
        "#language english  --\n",
        "nlp=spacy.load('en')\n",
        "nlp"
      ],
      "execution_count": 33,
      "outputs": [
        {
          "output_type": "execute_result",
          "data": {
            "text/plain": [
              "<spacy.lang.en.English at 0x7f44bbe54d68>"
            ]
          },
          "metadata": {
            "tags": []
          },
          "execution_count": 33
        }
      ]
    },
    {
      "cell_type": "code",
      "metadata": {
        "id": "ZghMLaSbevE8",
        "colab_type": "code",
        "colab": {}
      },
      "source": [
        "data=\"it is great Gatsby from long island\""
      ],
      "execution_count": 0,
      "outputs": []
    },
    {
      "cell_type": "code",
      "metadata": {
        "id": "4f8vNbrYfVD8",
        "colab_type": "code",
        "colab": {}
      },
      "source": [
        "new_data=nlp(data)  #automatic tokenize"
      ],
      "execution_count": 0,
      "outputs": []
    },
    {
      "cell_type": "code",
      "metadata": {
        "id": "sMsGykb1fZ2H",
        "colab_type": "code",
        "colab": {
          "base_uri": "https://localhost:8080/",
          "height": 380
        },
        "outputId": "ab9e6fff-3890-456f-cb24-5d75a06fd2e1"
      },
      "source": [
        "for i in new_data:\n",
        "  print(i ,\"& it lemmatization-->\",i.lemma_)\n",
        "  print(\"##################################\")\n",
        "  print(i.pos_)  #its displays part of speech"
      ],
      "execution_count": 44,
      "outputs": [
        {
          "output_type": "stream",
          "text": [
            "it & it lemmatization--> -PRON-\n",
            "##################################\n",
            "PRON\n",
            "is & it lemmatization--> be\n",
            "##################################\n",
            "VERB\n",
            "great & it lemmatization--> great\n",
            "##################################\n",
            "ADJ\n",
            "Gatsby & it lemmatization--> Gatsby\n",
            "##################################\n",
            "PROPN\n",
            "from & it lemmatization--> from\n",
            "##################################\n",
            "ADP\n",
            "long & it lemmatization--> long\n",
            "##################################\n",
            "ADJ\n",
            "island & it lemmatization--> island\n",
            "##################################\n",
            "NOUN\n"
          ],
          "name": "stdout"
        }
      ]
    },
    {
      "cell_type": "code",
      "metadata": {
        "id": "gn8yjpBofrJb",
        "colab_type": "code",
        "colab": {}
      },
      "source": [
        ""
      ],
      "execution_count": 0,
      "outputs": []
    }
  ]
}